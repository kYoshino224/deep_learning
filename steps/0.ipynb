{
 "cells": [
  {
   "cell_type": "code",
   "execution_count": 2,
   "metadata": {},
   "outputs": [
    {
     "name": "stdout",
     "output_type": "stream",
     "text": [
      "['/Users/KY/7.deeplearning/dezero_for_me/steps', '/Users/KY/opt/anaconda3/envs/myenv/lib/python310.zip', '/Users/KY/opt/anaconda3/envs/myenv/lib/python3.10', '/Users/KY/opt/anaconda3/envs/myenv/lib/python3.10/lib-dynload', '', '/Users/KY/opt/anaconda3/envs/myenv/lib/python3.10/site-packages', '/Users/KY/opt/anaconda3/envs/myenv/lib/python3.10/site-packages/aeosa']\n"
     ]
    }
   ],
   "source": [
    "import sys\n",
    "print(sys.path)"
   ]
  },
  {
   "cell_type": "code",
   "execution_count": 3,
   "metadata": {},
   "outputs": [],
   "source": [
    "sys.path.append('/Users/KY/7.deeplearning/dezero_for_me')"
   ]
  },
  {
   "cell_type": "code",
   "execution_count": 4,
   "metadata": {},
   "outputs": [
    {
     "name": "stdout",
     "output_type": "stream",
     "text": [
      "['/Users/KY/7.deeplearning/dezero_for_me/steps', '/Users/KY/opt/anaconda3/envs/myenv/lib/python310.zip', '/Users/KY/opt/anaconda3/envs/myenv/lib/python3.10', '/Users/KY/opt/anaconda3/envs/myenv/lib/python3.10/lib-dynload', '', '/Users/KY/opt/anaconda3/envs/myenv/lib/python3.10/site-packages', '/Users/KY/opt/anaconda3/envs/myenv/lib/python3.10/site-packages/aeosa', '/Users/KY/7.deeplearning/dezero_for_me']\n"
     ]
    }
   ],
   "source": [
    "print(sys.path)"
   ]
  }
 ],
 "metadata": {
  "kernelspec": {
   "display_name": "myenv",
   "language": "python",
   "name": "python3"
  },
  "language_info": {
   "codemirror_mode": {
    "name": "ipython",
    "version": 3
   },
   "file_extension": ".py",
   "mimetype": "text/x-python",
   "name": "python",
   "nbconvert_exporter": "python",
   "pygments_lexer": "ipython3",
   "version": "3.10.13"
  }
 },
 "nbformat": 4,
 "nbformat_minor": 2
}
