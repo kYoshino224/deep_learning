{
 "cells": [
  {
   "cell_type": "code",
   "execution_count": 2,
   "metadata": {},
   "outputs": [
    {
     "name": "stderr",
     "output_type": "stream",
     "text": [
      "2024-08-02 03:19:26.487800: I tensorflow/core/platform/cpu_feature_guard.cc:193] This TensorFlow binary is optimized with oneAPI Deep Neural Network Library (oneDNN) to use the following CPU instructions in performance-critical operations:  SSE4.1 SSE4.2\n",
      "To enable them in other operations, rebuild TensorFlow with the appropriate compiler flags.\n"
     ]
    }
   ],
   "source": [
    "import os\n",
    "import numpy as np\n",
    "import pandas as pd\n",
    "from PIL import Image\n",
    "import matplotlib.pyplot as plt\n",
    "import tensorflow.python.keras as keras\n",
    "from keras.layers import Dense, Flatten, Conv2D, MaxPooling2D, Dropout, Input, Activation\n",
    "from keras.models import Sequential, Model\n",
    "pd.set_option('display.max_columns', 1000)\n",
    "pd.set_option('display.max_rows', 1000)\n",
    "pd.set_option(\"display.width\", 100)\n",
    "pd.set_option(\"display.max_colwidth\", 100)"
   ]
  },
  {
   "cell_type": "code",
   "execution_count": 20,
   "metadata": {},
   "outputs": [],
   "source": [
    "train_path = 'cnn_data/train_concat'\n",
    "val_path = 'cnn_data/val_concat'\n",
    "x_train = np.array([])\n",
    "y_train = np.array([])\n",
    "x_val = np.array([])\n",
    "y_val = np.array([])\n",
    "\n",
    "for path in os.listdir(train_path + '/pic'):\n",
    "    img = np.array(Image.open(os.path.join(train_path + '/pic', path)))\n",
    "    np.append(x_train, img)\n",
    "for path in os.listdir(val_path + '/pic'):\n",
    "    img = np.array(Image.open(os.path.join(val_path + '/pic', path)))\n",
    "    np.append(x_val, img)\n",
    "\n",
    "for path in os.listdir(train_path + '/label'):\n",
    "    label = open(os.path.join(train_path + '/label', path), 'r').read()\n",
    "    label_float = np.array([])\n",
    "    for i in label.splitlines():\n",
    "        np.append(label_float, np.array(list(map(float, i.split(' ')))))\n",
    "    np.append(y_train, label_float)\n",
    "for path in os.listdir(val_path + '/label'):\n",
    "    label = open(os.path.join(val_path + '/label', path), 'r').read()\n",
    "    label_float = np.array([])\n",
    "    for i in label.splitlines():\n",
    "        np.append(label_float, np.array(list(map(float, i.split(' ')))))\n",
    "    np.append(y_val, label_float)\n"
   ]
  },
  {
   "cell_type": "code",
   "execution_count": 22,
   "metadata": {},
   "outputs": [
    {
     "data": {
      "text/plain": [
       "array([], dtype=float64)"
      ]
     },
     "execution_count": 22,
     "metadata": {},
     "output_type": "execute_result"
    }
   ],
   "source": [
    "y_train"
   ]
  },
  {
   "cell_type": "code",
   "execution_count": 9,
   "metadata": {},
   "outputs": [
    {
     "ename": "ValueError",
     "evalue": "setting an array element with a sequence. The requested array has an inhomogeneous shape after 1 dimensions. The detected shape was (4737,) + inhomogeneous part.",
     "output_type": "error",
     "traceback": [
      "\u001b[0;31m---------------------------------------------------------------------------\u001b[0m",
      "\u001b[0;31mValueError\u001b[0m                                Traceback (most recent call last)",
      "Cell \u001b[0;32mIn[9], line 1\u001b[0m\n\u001b[0;32m----> 1\u001b[0m x_train \u001b[38;5;241m=\u001b[39m \u001b[43mnp\u001b[49m\u001b[38;5;241;43m.\u001b[39;49m\u001b[43marray\u001b[49m\u001b[43m(\u001b[49m\u001b[43mx_train\u001b[49m\u001b[43m)\u001b[49m\n\u001b[1;32m      2\u001b[0m y_train \u001b[38;5;241m=\u001b[39m np\u001b[38;5;241m.\u001b[39marray(y_train)\n\u001b[1;32m      3\u001b[0m x_val \u001b[38;5;241m=\u001b[39m np\u001b[38;5;241m.\u001b[39marray(x_val)\n",
      "\u001b[0;31mValueError\u001b[0m: setting an array element with a sequence. The requested array has an inhomogeneous shape after 1 dimensions. The detected shape was (4737,) + inhomogeneous part."
     ]
    }
   ],
   "source": [
    "x_train = np.array(x_train)\n",
    "y_train = np.array(y_train)\n",
    "x_val = np.array(x_val)\n",
    "y_val = np.array(y_val)\n",
    "x_train.shape"
   ]
  },
  {
   "cell_type": "code",
   "execution_count": null,
   "metadata": {},
   "outputs": [],
   "source": [
    "model = Sequential()\n",
    "model.add()"
   ]
  }
 ],
 "metadata": {
  "kernelspec": {
   "display_name": "myenv",
   "language": "python",
   "name": "python3"
  },
  "language_info": {
   "codemirror_mode": {
    "name": "ipython",
    "version": 3
   },
   "file_extension": ".py",
   "mimetype": "text/x-python",
   "name": "python",
   "nbconvert_exporter": "python",
   "pygments_lexer": "ipython3",
   "version": "3.10.13"
  }
 },
 "nbformat": 4,
 "nbformat_minor": 2
}
