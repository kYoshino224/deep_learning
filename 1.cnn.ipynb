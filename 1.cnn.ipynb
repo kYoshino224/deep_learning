{
 "cells": [
  {
   "cell_type": "code",
   "execution_count": 10,
   "metadata": {},
   "outputs": [],
   "source": [
    "import os\n",
    "import numpy as np\n",
    "import pandas as pd\n",
    "from PIL import Image\n",
    "import matplotlib.pyplot as plt\n",
    "import tensorflow.python.keras as keras\n",
    "from keras.layers import Dense, Flatten, Conv2D, MaxPooling2D, Dropout, Input, Activation\n",
    "from\n",
    "pd.set_option('display.max_columns', 1000)\n",
    "pd.set_option('display.max_rows', 1000)\n",
    "pd.set_option(\"display.width\", 100)\n",
    "pd.set_option(\"display.max_colwidth\", 100)"
   ]
  },
  {
   "cell_type": "code",
   "execution_count": 19,
   "metadata": {},
   "outputs": [],
   "source": [
    "train_path = 'cnn_data/train_concat'\n",
    "val_path = 'cnn_data/val_concat'\n",
    "x_train = []\n",
    "y_train = []\n",
    "x_val = []\n",
    "y_val = []\n",
    "\n",
    "for path in os.listdir(train_path + '/pic'):\n",
    "    img = np.asarray(Image.open(os.path.join(train_path + '/pic', path)))\n",
    "    x_train.append(img)\n",
    "for path in os.listdir(val_path + '/pic'):\n",
    "    img = np.asarray(Image.open(os.path.join(val_path + '/pic', path)))\n",
    "    x_val.append(img)\n",
    "\n",
    "for path in os.listdir(train_path + '/label'):\n",
    "    label = open(os.path.join(train_path + '/label', path), 'r').read()\n",
    "    y_train.append(label)\n",
    "for path in os.listdir(val_path + '/label'):\n",
    "    label = open(os.path.join(val_path + '/label', path), 'r').read()\n",
    "    y_val.append(label)\n"
   ]
  },
  {
   "cell_type": "code",
   "execution_count": null,
   "metadata": {},
   "outputs": [],
   "source": [
    "y_val"
   ]
  },
  {
   "cell_type": "code",
   "execution_count": null,
   "metadata": {},
   "outputs": [],
   "source": [
    "model = Sequential()"
   ]
  }
 ],
 "metadata": {
  "kernelspec": {
   "display_name": "myenv",
   "language": "python",
   "name": "python3"
  },
  "language_info": {
   "codemirror_mode": {
    "name": "ipython",
    "version": 3
   },
   "file_extension": ".py",
   "mimetype": "text/x-python",
   "name": "python",
   "nbconvert_exporter": "python",
   "pygments_lexer": "ipython3",
   "version": "3.10.13"
  }
 },
 "nbformat": 4,
 "nbformat_minor": 2
}
